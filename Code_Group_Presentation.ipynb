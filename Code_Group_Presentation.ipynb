{
 "cells": [
  {
   "cell_type": "markdown",
   "metadata": {},
   "source": [
    "# Network Data Visualization with Linear Algebra"
   ]
  },
  {
   "cell_type": "markdown",
   "metadata": {},
   "source": [
    "### Agenda:\n",
    "* Project Overview\n",
    "* Class Graph\n",
    "* Shi & Malik's Method"
   ]
  },
  {
   "cell_type": "markdown",
   "metadata": {},
   "source": [
    "Note: In this project, we mainly study the Laplacian Graph theory, create a graph operator and implement the Shi & Malik's Method. First, let's talk about the Laplacian Graph Theory. We know that we can define a matrix for any graphs. The formula below shows how we break down the laplacian matrix."
   ]
  },
  {
   "cell_type": "markdown",
   "metadata": {},
   "source": [
    "The Laplacian matrix:\n",
    "$$L = D - W$$\n",
    "where $D$ is the $n \\times n$ diagonal degree matrix and $W$ is the adjacency matrix.\n"
   ]
  },
  {
   "cell_type": "markdown",
   "metadata": {},
   "source": [
    "Note: We first create a Adjacency and Laplacian matrix using the edgelist. The edgelist is a list of nodes. Then, we use the linear algebra package in numpy to graph the eigenvalues and eigenvectors. Next, Wendy will talk about how we combine all the functions and create a class called Graphoperator."
   ]
  },
  {
   "cell_type": "markdown",
   "metadata": {
    "collapsed": true
   },
   "source": [
    "Wendy: \n",
    "Use Networkx packages\n",
    "Matrix type, scipy sparse matrix\n"
   ]
  },
  {
   "cell_type": "code",
   "execution_count": null,
   "metadata": {
    "collapsed": true
   },
   "outputs": [],
   "source": []
  }
 ],
 "metadata": {
  "anaconda-cloud": {},
  "kernelspec": {
   "display_name": "Python [default]",
   "language": "python",
   "name": "python2"
  },
  "language_info": {
   "codemirror_mode": {
    "name": "ipython",
    "version": 2
   },
   "file_extension": ".py",
   "mimetype": "text/x-python",
   "name": "python",
   "nbconvert_exporter": "python",
   "pygments_lexer": "ipython2",
   "version": "2.7.12"
  }
 },
 "nbformat": 4,
 "nbformat_minor": 2
}
