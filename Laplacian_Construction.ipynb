{
 "cells": [
  {
   "cell_type": "markdown",
   "metadata": {},
   "source": [
    "# The codes below are from Networkx\n",
    "\n",
    "\n",
    "### Create Laplacian construction functions for combinatorial and normalized laplacians.\n",
    "\n",
    "1) Create a function takes in a graph object and returns a Laplacian matrix\n"
   ]
  },
  {
   "cell_type": "code",
   "execution_count": 13,
   "metadata": {
    "collapsed": true
   },
   "outputs": [],
   "source": [
    "import networkx as nx\n",
    "import matplotlib.pyplot as plt\n",
    "import scipy.sparse"
   ]
  },
  {
   "cell_type": "markdown",
   "metadata": {},
   "source": [
    "Step 1: Create a networkX Graph"
   ]
  },
  {
   "cell_type": "code",
   "execution_count": 30,
   "metadata": {
    "collapsed": false
   },
   "outputs": [
    {
     "data": {
      "image/png": "[encoded data removed]",
      "text/plain": [
       "<matplotlib.figure.Figure at 0x118b6e390>"
      ]
     },
     "metadata": {},
     "output_type": "display_data"
    }
   ],
   "source": [
    "g = nx.Graph()\n",
    "g.add_node(3)\n",
    "g.add_node(6)\n",
    "g.add_edge(4, 6)\n",
    "g.add_edge(3, 1)\n",
    "g.add_edges_from([(2, 5), (1, 4)])\n",
    "nx.draw(g)\n",
    "plt.show()"
   ]
  },
  {
   "cell_type": "code",
   "execution_count": 44,
   "metadata": {
    "collapsed": true
   },
   "outputs": [],
   "source": [
    "def laplacian_matrix(G,nodelist=None, weight='weight'):\n",
    "    \"\"\"\n",
    "    create a laplacian matrix using a graph\n",
    "    \n",
    "    Argument: G, nodelist, weight\n",
    "    \n",
    "    Return: Scipy Sparse Matrix\n",
    "    \n",
    "    \"\"\"\n",
    "    if nodelist is None:\n",
    "        nodelist = G.nodes()\n",
    "    A = nx.to_scipy_sparse_matrix(G, nodelist=nodelist, weight=weight,\n",
    "                                  format='csr')\n",
    "    n,m = A.shape\n",
    "    diags = A.sum(axis=1)\n",
    "    D = scipy.sparse.spdiags(diags.flatten(), [0], m, n, format='csr')\n",
    "    return  D - A"
   ]
  },
  {
   "cell_type": "code",
   "execution_count": 45,
   "metadata": {
    "collapsed": false
   },
   "outputs": [],
   "source": [
    "laplacian_matrix = laplacian_matrix(g,nodelist=None, weight='weight')"
   ]
  },
  {
   "cell_type": "code",
   "execution_count": 46,
   "metadata": {
    "collapsed": false
   },
   "outputs": [
    {
     "name": "stdout",
     "output_type": "stream",
     "text": [
      "  (0, 0)\t2\n",
      "  (0, 2)\t-1\n",
      "  (0, 3)\t-1\n",
      "  (1, 1)\t1\n",
      "  (1, 4)\t-1\n",
      "  (2, 0)\t-1\n",
      "  (2, 2)\t1\n",
      "  (3, 0)\t-1\n",
      "  (3, 3)\t2\n",
      "  (3, 5)\t-1\n",
      "  (4, 1)\t-1\n",
      "  (4, 4)\t1\n",
      "  (5, 3)\t-1\n",
      "  (5, 5)\t1\n"
     ]
    }
   ],
   "source": [
    "print laplacian_matrix"
   ]
  },
  {
   "cell_type": "code",
   "execution_count": 40,
   "metadata": {
    "collapsed": true
   },
   "outputs": [],
   "source": [
    "def normalized_laplacian_matrix(G, nodelist=None, weight='weight'):\n",
    "    \"\"\"\n",
    "    create a normalized laplacian matrix using a graph\n",
    "    \n",
    "    Argument: G, nodelist, weight\n",
    "    \n",
    "    Return: Numpy Matrix\n",
    "    \n",
    "    \"\"\"\n",
    "    if nodelist is None:\n",
    "        nodelist = G.nodes()\n",
    "    A = nx.to_scipy_sparse_matrix(G, nodelist=nodelist, weight=weight,\n",
    "                                  format='csr')\n",
    "    n,m = A.shape\n",
    "    diags = A.sum(axis=1).flatten()\n",
    "    D = scipy.sparse.spdiags(diags, [0], m, n, format='csr')\n",
    "    L = D - A\n",
    "    with scipy.errstate(divide='ignore'):\n",
    "       diags_sqrt = 1.0/scipy.sqrt(diags)\n",
    "    diags_sqrt[scipy.isinf(diags_sqrt)] = 0\n",
    "    DH = scipy.sparse.spdiags(diags_sqrt, [0], m, n, format='csr')\n",
    "    return DH.dot(L.dot(DH))"
   ]
  },
  {
   "cell_type": "code",
   "execution_count": 42,
   "metadata": {
    "collapsed": false
   },
   "outputs": [],
   "source": [
    "normal_matrix = normalized_laplacian_matrix(g,nodelist=None, weight='weight')"
   ]
  },
  {
   "cell_type": "code",
   "execution_count": 43,
   "metadata": {
    "collapsed": false
   },
   "outputs": [
    {
     "name": "stdout",
     "output_type": "stream",
     "text": [
      "  (0, 0)\t1.0\n",
      "  (0, 2)\t-0.707106781187\n",
      "  (0, 3)\t-0.5\n",
      "  (1, 1)\t1.0\n",
      "  (1, 4)\t-1.0\n",
      "  (2, 0)\t-0.707106781187\n",
      "  (2, 2)\t1.0\n",
      "  (3, 0)\t-0.5\n",
      "  (3, 3)\t1.0\n",
      "  (3, 5)\t-0.707106781187\n",
      "  (4, 1)\t-1.0\n",
      "  (4, 4)\t1.0\n",
      "  (5, 3)\t-0.707106781187\n",
      "  (5, 5)\t1.0\n"
     ]
    }
   ],
   "source": [
    "print normal_matrix"
   ]
  },
  {
   "cell_type": "code",
   "execution_count": null,
   "metadata": {
    "collapsed": true
   },
   "outputs": [],
   "source": []
  }
 ],
 "metadata": {
  "kernelspec": {
   "display_name": "Python 2",
   "language": "python",
   "name": "python2"
  },
  "language_info": {
   "codemirror_mode": {
    "name": "ipython",
    "version": 2
   },
   "file_extension": ".py",
   "mimetype": "text/x-python",
   "name": "python",
   "nbconvert_exporter": "python",
   "pygments_lexer": "ipython2",
   "version": "2.7.13"
  }
 },
 "nbformat": 4,
 "nbformat_minor": 2
}
