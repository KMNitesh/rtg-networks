import argparse
import networkx as nx
import numpy as np
from scipy.sparse import linalg
import matplotlib.pyplot as plt
%matplotlib inline
from scipy.sparse import csr_matrix
from scipy import sparse

In this project, we will illustrate how the graphs for eigenvalues and eigenvectors changes when using numpy versus scipy.


def create_Laplacian_A(edgelist,n):
    """
    Create a Laplacian Matrix using the numpy package
	Argument: edgelist and n (the number of rows/columns)
	Return: Laplacian Matrix
    """
    W = np.zeros((n,n))
    for i,j in edgelist:
        W[i,j] = 1
        W[j,i] = 1
    D = np.diag(W.sum(axis=0))
    L = D - W
    return L

# Approach: Simply convert the Laplacian Matrix into a Sparse Matrix
def create_Laplacian(edgelist,n):
    """
    Create a Laplacian Matrix using the scipy package
	Argument: edgelist and n (the number of rows/columns)
	Return: Laplacian Matrix

    """
    L = create_Laplacian_A(edgelist,n)
    S = sparse.csr_matrix(L)
    return S


def plot_eigenvec_withL(L, p, q):
    """
    Plot the eigenvectors for the Laplacian Matrix
	Argument: Laplacian Matrix, p (the order number for the first eigenvector), q (the order number for the second eigenvector)
	Return: A scatter plot for the eigenvectors
    """
    (eigvalue, eigvec) = np.linalg.eig(L)
    sort_eigvec = eigvec[:, eigvalue.argsort()]
    vec1 = sort_eigvec[:, p-1]
    vec2 = sort_eigvec[:, q-1]
    plt.scatter(vec1, vec2)
    
    
def plot_eigenval_withL(L):
    """
    Plot the eigenvalues for the Laplacian Matrix
	Argument: Laplacian Matrix
	Return: A scatter plot for the eigenvalues

    """
    (eigvalue, eigvec) = np.linalg.eig(L)
    n = np.size(eigvalue)
    num_eigval = np.linspace(1, n, n)
    val_eigval = np.sort(eigvalue)
    plt.plot(num_eigval, val_eigval)
