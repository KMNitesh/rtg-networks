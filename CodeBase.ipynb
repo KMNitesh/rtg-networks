import argparse
import networkx as nx
import numpy as np
from scipy.sparse import linalg
import matplotlib.pyplot as plt
%matplotlib inline
from scipy.sparse import csr_matrix
from scipy import sparse

#In this project, we will illustrate how the graphs for eigenvalues and eigenvectors changes when using numpy versus scipy.

def create_Laplacian_Numpy(n):
    """
    Create a Laplacian Matrix using the numpy package
	Argument: edgelist and n (the number of rows/columns for a squared matrix)
	Return: Laplacian Matrix
    """
    edgelist = [[i,i+1] for i in range(n-1)]
    W = np.zeros((n,n))
    for i,j in edgelist:
        W[i,j] = 1
        W[j,i] = 1
    D = np.diag(W.sum(axis=0))
    L = D - W
    return L

# Approach: Simply convert the Laplacian Matrix into a Sparse Matrix
def create_Laplacian_Scipy(n):
    """
    Create a Laplacian Matrix using the scipy package
	Argument: edgelist and n (the number of rows/columns for a squared matrix)
	Return: Laplacian Matrix
    """
    L = create_Laplacian_A(n)
    S = sparse.csr_matrix(L)
    return S

def vector(L, p, q):
    """
    Create the sorted eigenvectors
    Argument: Laplacian Matrix, p (the order number for the first eigenvector), q (the order number for the second eigenvector)
    Return: two vectors
    """
    (eigvalue, eigvec) = np.linalg.eig(L)
    sort_eigvec = eigvec[:, eigvalue.argsort()]
    vec1 = sort_eigvec[:, p-1]
    vec2 = sort_eigvec[:, q-1]
    return vec1, vec2

def plot_eigenvec_withL(L, p, q):
    """
    Plot the eigenvectors for the Laplacian Matrix
	Argument: Laplacian Matrix, p (the order number for the first eigenvector), q (the order number for the second eigenvector)
	Return: A scatter plot for the eigenvectors
    """
    (eigvalue, eigvec) = np.linalg.eig(L)
    sort_eigvec = eigvec[:, eigvalue.argsort()]
    vec1 = sort_eigvec[:, p-1]
    vec2 = sort_eigvec[:, q-1]
    plt.scatter(vec1, vec2)

def plot_eigenval_withL(L):
    """
    Plot the eigenvalues for the Laplacian Matrix
	Argument: Laplacian Matrix
	Return: A scatter plot for the eigenvalues
    """
    (eigvalue, eigvec) = np.linalg.eig(L)
    n = np.size(eigvalue)
    num_eigval = np.linspace(1, n, n)
    val_eigval = np.sort(eigvalue)
    plt.plot(num_eigval, val_eigval)
    
def plot_edge(n, L, p, q):
    """
    Plot the edges
	Argument: n (the number of rows/columns for a squared matrix) and Laplacian Matrix
	Return: A graph for edges
    """
    #check this
    vec1 = vector(L, p, q)[0]
    vec2 = vector(L, p, q)[1]
    edgelist = [[i,i+1] for i in range(n-1)]
    for j,k in edgelist:
        plt.plot(vec1[[j,k]],vec2[[j,k]])
    plt.show()
    
def plot_edge_sort_sparse(L, p, q):
    """
    Plot the edges for sparse vectors
    Argument: Laplacian Matrix,  p (the order number for the first eigenvector), q (the order number for the second eigenvector), edgelist'
    Return: A graph for edges
    """
    sparse_vals, sparse_vecs = sparse.linalg.eigsh(L, which = 'SM')
    edgelist = [[i,i+1] for i in range(n-1)]
    vec1 = sparse_vec[:,p-1]
    vec2 = sparse_vec[:,q-1]
    for j,k in edgelist:
        plt.plot(vec1[[j,k]],vec2[[j,k]])
    plt.show()
    
   
def plot_edge_array_matrix(L, p, q):
    """
    Plot the edges for sorted eigenvectors
    Argument: sorted eigenvectors,  p (the order number for the first eigenvector), q (the order number for the second eigenvector), edgelist'
    Return: A graph for edges
    """
    edgelist = [[i,i+1] for i in range(n-1)]
    (eigvalue, eigvec) = np.linalg.eig(L)
    sort_eigvec = eigvec[:, eigvalue.argsort()]
    vec1 = sorted_eigvec[:, p-1]
    vec2 = sorted_eigvec[:, q-1]
    for j,k in edgelist:
        plt.plot(vec1[[j,k]],vec2[[j,k]])
    plt.show()
    
def plot_eigenval_sparse(L):
    """
    Plot the eigenvalues for the sparse matrix
    Argument: Laplacian Matrix
    Return: A graph for the eigenvalues of the sparse matrix
    """
    vals, vecs = sparse.linalg.eigsh(L, k = L.shape[1] - 1, which = 'SM')
    plt.plot(vals)
    plt.show()


def plot_eigenvecs_sparse(L):
    """
    Plot the all the eigenvectors for the sparse matrix
    Argument: Laplacian Matrix
    Return: A graph for the eigenvectors of the sparse matrix
    """
    vals, vecs = sparse.linalg.eigsh(L, k = L.shape[1] - 1, which = 'SM')
    plt.plot(vecs)
    plt.show()



def plot_edge_eigenvec_sparse(L, p, q, n):
    """
    Plot edges on pth and qth eigenvectors
    
    Argument: Sparse Lapacian Matrix, pth eigenvectors in sorted sparse matrix, qth eigenvectors in sorted sparse matrix
    
    Return: A graph for the eigenvectors of the sparse matrix
    
    Notes: eigenvectors are sorted by lowest to highes values of eigenvalues in the sparse matrix
    """
    edgelist = [[i,i+1] for i in range(n-1)]
    vals, vecs = sparse.linalg.eigsh(L, k = L.shape[1] - 1, which = 'SM')
    plt.scatter(vecs[:,p-1],vecs[:,q-1])
    vec1 = vecs[:,p-1]
    vec2 = vecs[:,q-1]
    for j,k in edgelist:
        plt.plot(vec1[[j,k]],vec2[[j,k]])
    plt.show()

# User Input:
n: Number of rows/columns for a squared matrix
p: Order number for the first eigenvector
q: Order number for the second eigenvector

n = 10
p = 2
q = 3

# Create a Laplacian Matrix Using Numpy
L = create_Laplacian_Numpy(n)
# Create a Laplacian Matrix Using Scipy
L_Sci = create_Laplacian_Scipy(n)
# Plot the eigenvectors of a Laplacian Matrix with specified order number for the eigenvectors
plot_eigenvec_withL(L, p, q)
# Plot the eigenvalues of a Laplacian Matrix
plot_eigenval_withL(L)
# Plot the edges for a Laplacian Matrix
plot_edge(n, L, p, q)
# Plot the edges for a sorted Sparse Matrix
plot_edge_sort_sparse(L, p, q)
# Plot the edges for a Sparse Matrix with sorted eigenvectors
plot_edge_array_matrix(L, p, q)
# Plot the sparse eigenvalues
plot_eigenval_sparse(L)
# Plot the sparse eigenvectors
plot_eigenvecs_sparse(L)
# Plot the edges for the sparse eigenvectors
plot_edge_eigenvec_sparse(L, p, q, n)
