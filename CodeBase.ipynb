import argparse
import networkx as nx
import numpy as np
from scipy.sparse import linalg
import matplotlib.pyplot as plt
%matplotlib inline
from scipy.sparse import csr_matrix
from scipy import sparse

#In this project, we will illustrate how the graphs for eigenvalues and eigenvectors changes when using numpy versus scipy.


def setup_np(n):
    """
    Create a Laplacian Matrix using numpy
    Argument: n (number of rows or columns for a squared matrix)
    Return: Laplacian Matrix
    """
    edgelist = [[i,i+1] for i in range(n-1)]
    L1 = create_Laplacian_Numpy(edgelist, n)
    return L1

def setup_scipy(n):
    """
    Create a Laplacian Matrix using scipy
    Argument: n (number of rows or columns for a squared matrix)
    Return: Laplacian Matrix
    """
    edgelist = [[i,i+1] for i in range(n-1)]
    L1 = create_Laplacian_Scipy(edgelist,n)
    return L1


def create_Laplacian_Numpy(edgelist,n):
    """
    Create a Laplacian Matrix using the numpy package
	Argument: edgelist and n (the number of rows/columns)
	Return: Laplacian Matrix
    """
    W = np.zeros((n,n))
    for i,j in edgelist:
        W[i,j] = 1
        W[j,i] = 1
    D = np.diag(W.sum(axis=0))
    L = D - W
    return L

# Approach: Simply convert the Laplacian Matrix into a Sparse Matrix
def create_Laplacian_Scipy(edgelist,n):
    """
    Create a Laplacian Matrix using the scipy package
	Argument: edgelist and n (the number of rows/columns)
	Return: Laplacian Matrix

    """
    L = create_Laplacian_A(edgelist,n)
    S = sparse.csr_matrix(L)
    return S


def plot_eigenvec_withL(L, p, q):
    """
    Plot the eigenvectors for the Laplacian Matrix
	Argument: Laplacian Matrix, p (the order number for the first eigenvector), q (the order number for the second eigenvector)
	Return: A scatter plot for the eigenvectors
    """
    (eigvalue, eigvec) = np.linalg.eig(L)
    sort_eigvec = eigvec[:, eigvalue.argsort()]
    vec1 = sort_eigvec[:, p-1]
    vec2 = sort_eigvec[:, q-1]
    plt.scatter(vec1, vec2)
    
    
def plot_eigenval_withL(L):
    """
    Plot the eigenvalues for the Laplacian Matrix
	Argument: Laplacian Matrix
	Return: A scatter plot for the eigenvalues
    """
    (eigvalue, eigvec) = np.linalg.eig(L)
    n = np.size(eigvalue)
    num_eigval = np.linspace(1, n, n)
    val_eigval = np.sort(eigvalue)
    plt.plot(num_eigval, val_eigval)
    
def plot_edge(vec1, vec2, edgelist):
    """
    Plot the edges
	Argument: vectors and edgelist
	Return: A graph for edges
    """
    for j,k in edgelist:
        plt.plot(vec1[[j,k]],vec2[[j,k]])
    plt.show()
    
def plot_edge_sort_sparse(sparse_vec, p, q, edgelist):
    """
    Plot the edges for sparse vectors
    Argument: sparse vector,  p (the order number for the first eigenvector), q (the order number for the second eigenvector), edgelist'
    Return: A graph for edges
    """
    vec1 = sparse_vec[:,p-1]
    vec2 = sparse_vec[:,q-1]
    for j,k in edgelist:
        plt.plot(vec1[[j,k]],vec2[[j,k]])
    plt.show()
    
   
def plot_edge_array_matrix(sorted_eigvec, p, q, edgelist):
    """
    Plot the edges for sorted eigenvectors
    Argument: sorted eigenvectors,  p (the order number for the first eigenvector), q (the order number for the second eigenvector), edgelist'
    Return: A graph for edges
    """
    vec1 = sorted_eigvec[:, p-1]
    vec2 = sorted_eigvec[:, q-1]
    for j,k in edgelist:
        plt.plot(vec1[[j,k]],vec2[[j,k]])
    plt.show()
    
def plot_eigenval_sparse(L):
    """
    Plot the eigenvalues for the sparse matrix
    Argument: Laplacian Matrix
    Return: A graph for the eigenvalues of the sparse matrix
    """
    vals, vecs = sparse.linalg.eigsh(L, k = L.shape[1] - 1, which = 'SM')
    plt.plot(vals)
    plt.show()


def plot_eigenvecs_sparse(L):
    """
    Plot the eigenvectors for the sparse matrix
    Argument: Laplacian Matrix
    Return: A graph for the eigenvectors of the sparse matrix
    """
    vals, vecs = sparse.linalg.eigsh(L, k = L.shape[1] - 1, which = 'SM')
    plt.plot(vecs)
    plt.show()

    
Step 1:
Set the shape of a matrix and create a list for all the edges
Create two matrices, one from the numpy package and the other one from the scipy package



n = 10
p = 2
q = 3
L = setup_np(n)

plot_eigenvec_withL(L, p, q)
plot_eigenval_withL(L)
plot_edge(vec1, vec2, edgelist)
plot_edge_sort_sparse(sparse_vec, p, q, edgelist)
plot_edge_array_matrix(sorted_eigvec, p, q, edgelist)
plot_eigenval_sparse(L)
plot_eigenvecs_sparse(L)
